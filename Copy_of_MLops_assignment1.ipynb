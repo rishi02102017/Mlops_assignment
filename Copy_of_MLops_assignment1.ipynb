{
  "nbformat": 4,
  "nbformat_minor": 0,
  "metadata": {
    "colab": {
      "provenance": []
    },
    "kernelspec": {
      "name": "python3",
      "display_name": "Python 3"
    },
    "language_info": {
      "name": "python"
    }
  },
  "cells": [
    {
      "cell_type": "markdown",
      "source": [
        "## MLOps Assignment 1"
      ],
      "metadata": {
        "id": "LlIGlcIiywyq"
      }
    },
    {
      "cell_type": "markdown",
      "source": [
        "Q1. Print multiplication table from 1 to 10"
      ],
      "metadata": {
        "id": "i3GplYoCqa89"
      }
    },
    {
      "cell_type": "code",
      "source": [
        "for i in range(1, 11):\n",
        "    for j in range(1, 11):\n",
        "        print(f\"{i} x {j} = {i * j}\")\n",
        "    print()"
      ],
      "metadata": {
        "id": "Vfm5RBY0qbIs",
        "colab": {
          "base_uri": "https://localhost:8080/"
        },
        "outputId": "6b6161f8-1599-46ef-de0f-f83532c9b6d7"
      },
      "execution_count": 1,
      "outputs": [
        {
          "output_type": "stream",
          "name": "stdout",
          "text": [
            "1 x 1 = 1\n",
            "1 x 2 = 2\n",
            "1 x 3 = 3\n",
            "1 x 4 = 4\n",
            "1 x 5 = 5\n",
            "1 x 6 = 6\n",
            "1 x 7 = 7\n",
            "1 x 8 = 8\n",
            "1 x 9 = 9\n",
            "1 x 10 = 10\n",
            "\n",
            "2 x 1 = 2\n",
            "2 x 2 = 4\n",
            "2 x 3 = 6\n",
            "2 x 4 = 8\n",
            "2 x 5 = 10\n",
            "2 x 6 = 12\n",
            "2 x 7 = 14\n",
            "2 x 8 = 16\n",
            "2 x 9 = 18\n",
            "2 x 10 = 20\n",
            "\n",
            "3 x 1 = 3\n",
            "3 x 2 = 6\n",
            "3 x 3 = 9\n",
            "3 x 4 = 12\n",
            "3 x 5 = 15\n",
            "3 x 6 = 18\n",
            "3 x 7 = 21\n",
            "3 x 8 = 24\n",
            "3 x 9 = 27\n",
            "3 x 10 = 30\n",
            "\n",
            "4 x 1 = 4\n",
            "4 x 2 = 8\n",
            "4 x 3 = 12\n",
            "4 x 4 = 16\n",
            "4 x 5 = 20\n",
            "4 x 6 = 24\n",
            "4 x 7 = 28\n",
            "4 x 8 = 32\n",
            "4 x 9 = 36\n",
            "4 x 10 = 40\n",
            "\n",
            "5 x 1 = 5\n",
            "5 x 2 = 10\n",
            "5 x 3 = 15\n",
            "5 x 4 = 20\n",
            "5 x 5 = 25\n",
            "5 x 6 = 30\n",
            "5 x 7 = 35\n",
            "5 x 8 = 40\n",
            "5 x 9 = 45\n",
            "5 x 10 = 50\n",
            "\n",
            "6 x 1 = 6\n",
            "6 x 2 = 12\n",
            "6 x 3 = 18\n",
            "6 x 4 = 24\n",
            "6 x 5 = 30\n",
            "6 x 6 = 36\n",
            "6 x 7 = 42\n",
            "6 x 8 = 48\n",
            "6 x 9 = 54\n",
            "6 x 10 = 60\n",
            "\n",
            "7 x 1 = 7\n",
            "7 x 2 = 14\n",
            "7 x 3 = 21\n",
            "7 x 4 = 28\n",
            "7 x 5 = 35\n",
            "7 x 6 = 42\n",
            "7 x 7 = 49\n",
            "7 x 8 = 56\n",
            "7 x 9 = 63\n",
            "7 x 10 = 70\n",
            "\n",
            "8 x 1 = 8\n",
            "8 x 2 = 16\n",
            "8 x 3 = 24\n",
            "8 x 4 = 32\n",
            "8 x 5 = 40\n",
            "8 x 6 = 48\n",
            "8 x 7 = 56\n",
            "8 x 8 = 64\n",
            "8 x 9 = 72\n",
            "8 x 10 = 80\n",
            "\n",
            "9 x 1 = 9\n",
            "9 x 2 = 18\n",
            "9 x 3 = 27\n",
            "9 x 4 = 36\n",
            "9 x 5 = 45\n",
            "9 x 6 = 54\n",
            "9 x 7 = 63\n",
            "9 x 8 = 72\n",
            "9 x 9 = 81\n",
            "9 x 10 = 90\n",
            "\n",
            "10 x 1 = 10\n",
            "10 x 2 = 20\n",
            "10 x 3 = 30\n",
            "10 x 4 = 40\n",
            "10 x 5 = 50\n",
            "10 x 6 = 60\n",
            "10 x 7 = 70\n",
            "10 x 8 = 80\n",
            "10 x 9 = 90\n",
            "10 x 10 = 100\n",
            "\n"
          ]
        }
      ]
    },
    {
      "cell_type": "markdown",
      "source": [
        "Q2. Given two lists, l1 and l2, write a program to create a third list l3 by picking an odd-index element from the list l1 and even index elements from the list l2."
      ],
      "metadata": {
        "id": "kCxjfhGtiMFb"
      }
    },
    {
      "cell_type": "code",
      "source": [
        "l1 = ['a', 'b', 'c', 'd', 'e', 'f']\n",
        "l2 = ['g', 'h', 'i', 'j', 'k', 'l']\n",
        "\n",
        "l3 = []\n",
        "\n",
        "l3.extend([l1[i] for i in range(1, len(l1), 2)])\n",
        "\n",
        "l3.extend([l2[i] for i in range(0, len(l2), 2)])\n",
        "\n",
        "print(l3)"
      ],
      "metadata": {
        "id": "r1lkQPN8iNSc",
        "colab": {
          "base_uri": "https://localhost:8080/"
        },
        "outputId": "20324d13-eb6f-4cb7-f15f-4334cf1720ab"
      },
      "execution_count": 3,
      "outputs": [
        {
          "output_type": "stream",
          "name": "stdout",
          "text": [
            "['b', 'd', 'f', 'g', 'i', 'k']\n"
          ]
        }
      ]
    },
    {
      "cell_type": "markdown",
      "source": [
        "Q3. Print a this pattern(*)\n",
        "\n",
        "    * * * * * * * *\n",
        "      * * * * * * *\n",
        "        * * * * * *\n",
        "          * * * * *\n",
        "            * * * *\n",
        "              * * *\n",
        "                * *\n",
        "                  *"
      ],
      "metadata": {
        "id": "GBb0FgtIq4YA"
      }
    },
    {
      "cell_type": "code",
      "source": [
        "n = 8\n",
        "\n",
        "for i in range(n):\n",
        "    for j in range(i):\n",
        "        print(\"  \", end=\"\")\n",
        "\n",
        "    for k in range(n - i):\n",
        "        print(\"* \", end=\"\")\n",
        "\n",
        "    print()"
      ],
      "metadata": {
        "id": "rfbGzuA3rcGs",
        "colab": {
          "base_uri": "https://localhost:8080/"
        },
        "outputId": "90da59a9-8f75-4c1a-99f8-76e851caa507"
      },
      "execution_count": 4,
      "outputs": [
        {
          "output_type": "stream",
          "name": "stdout",
          "text": [
            "* * * * * * * * \n",
            "  * * * * * * * \n",
            "    * * * * * * \n",
            "      * * * * * \n",
            "        * * * * \n",
            "          * * * \n",
            "            * * \n",
            "              * \n"
          ]
        }
      ]
    },
    {
      "cell_type": "markdown",
      "source": [
        "Q4. Create a function named `exponent(base, exp)` that returns an integer representing the result of raising `base` to the power of `exp`.\n",
        "`exp` is >0.\n",
        "\n",
        "base = 5\n",
        "exponent = 4\n",
        "\n",
        "5 raises to the power of 4 is: 625\n",
        "i.e. (5 *5 * 5 *5 = 625)"
      ],
      "metadata": {
        "id": "WIblh-z6s9me"
      }
    },
    {
      "cell_type": "code",
      "source": [
        "def exponent(base, exp):\n",
        "    result = 1\n",
        "    for _ in range(exp):\n",
        "        result *= base\n",
        "    return result\n",
        "\n",
        "base = 5\n",
        "exp = 4\n",
        "\n",
        "result = exponent(base, exp)\n",
        "print(f\"{base} raised to the power of {exp} is: {result}\")"
      ],
      "metadata": {
        "id": "6-KKDQNWs8eQ",
        "colab": {
          "base_uri": "https://localhost:8080/"
        },
        "outputId": "6e8b6b8e-45cd-4367-f5fe-afa2732f73b4"
      },
      "execution_count": 5,
      "outputs": [
        {
          "output_type": "stream",
          "name": "stdout",
          "text": [
            "5 raised to the power of 4 is: 625\n"
          ]
        }
      ]
    },
    {
      "cell_type": "markdown",
      "source": [
        "Q5. Create a file named test.txt and insert the following content into it.\n",
        "\n",
        "    line1\n",
        "    line2\n",
        "    line3\n",
        "    line4\n",
        "    line5\n",
        "    line6\n",
        "    line7\n",
        "\n",
        "Write a program which write all content of a given file (test.txt) into a new file by skipping line number 5 (line5)"
      ],
      "metadata": {
        "id": "_QUrD8h6t6PN"
      }
    },
    {
      "cell_type": "code",
      "source": [
        "with open(\"test.txt\", \"w\") as file:\n",
        "    file.write(\"line1\\n\")\n",
        "    file.write(\"line2\\n\")\n",
        "    file.write(\"line3\\n\")\n",
        "    file.write(\"line4\\n\")\n",
        "    file.write(\"line5\\n\")\n",
        "    file.write(\"line6\\n\")\n",
        "    file.write(\"line7\\n\")\n",
        "\n",
        "with open(\"test.txt\", \"r\") as file:\n",
        "    lines = file.readlines()\n",
        "\n",
        "with open(\"new_test.txt\", \"w\") as new_file:\n",
        "    for i, line in enumerate(lines, start=1):\n",
        "        if i != 5:\n",
        "            new_file.write(line)\n",
        "\n",
        "print(\"Content written to new_test.txt, skipping line 5.\")"
      ],
      "metadata": {
        "id": "I2KF1QHKrq-s",
        "colab": {
          "base_uri": "https://localhost:8080/"
        },
        "outputId": "8c40ffe0-80f8-4482-ff8a-5ae41aae4370"
      },
      "execution_count": 6,
      "outputs": [
        {
          "output_type": "stream",
          "name": "stdout",
          "text": [
            "Content written to new_test.txt, skipping line 5.\n"
          ]
        }
      ]
    },
    {
      "cell_type": "markdown",
      "source": [
        "Q6. Write a program which receives three names from the user in a single input() function call.\n",
        "\n",
        "    Input: IIT JODHPUR RAJASTHAN\n",
        "\n",
        "    Output:\n",
        "    IIT\n",
        "    JODHPUR\n",
        "    RAJASTHAN"
      ],
      "metadata": {
        "id": "6cdAt0ONvMVI"
      }
    },
    {
      "cell_type": "code",
      "source": [
        "user_input = input(\"Enter three names separated by spaces: \")\n",
        "\n",
        "names = user_input.split()\n",
        "\n",
        "for name in names:\n",
        "    print(name)"
      ],
      "metadata": {
        "id": "Mo0wyeB6vJJm",
        "colab": {
          "base_uri": "https://localhost:8080/"
        },
        "outputId": "f633134d-0021-49ba-e4fb-57a3cf38b872"
      },
      "execution_count": 7,
      "outputs": [
        {
          "output_type": "stream",
          "name": "stdout",
          "text": [
            "Enter three names separated by spaces: IIT Jodhpur Rajasthan\n",
            "IIT\n",
            "Jodhpur\n",
            "Rajasthan\n"
          ]
        }
      ]
    },
    {
      "cell_type": "markdown",
      "source": [
        "Q7. Write a program to define a function called show_employee() with the following requirements:\n",
        "\n",
        "*   It should take the employee's name and salary as input and display both.\n",
        "*   If the salary is not provided in the function call, assign a default value of 9000 to it.\n",
        "\n",
        "After passing:\n",
        "\n",
        "showEmployee(\"Bill Gates\", 12000)\n",
        "\n",
        "showEmployee(\"Elon Musk\")\n",
        "\n",
        "It should print:\n",
        "\n",
        "Name: Bill Gates salary: 12000\n",
        "\n",
        "Name: Elon Musk salary: 9000"
      ],
      "metadata": {
        "id": "jwSKpPcYv_De"
      }
    },
    {
      "cell_type": "code",
      "source": [
        "def showEmployee(name, salary=9000):\n",
        "    print(f\"Name: {name} salary: {salary}\")\n",
        "\n",
        "showEmployee(\"Bill Gates\", 12000)\n",
        "showEmployee(\"Elon Musk\")"
      ],
      "metadata": {
        "id": "yyzhkF1Lv94j",
        "colab": {
          "base_uri": "https://localhost:8080/"
        },
        "outputId": "ab764c84-1cad-4688-eaa8-d491bca6693f"
      },
      "execution_count": 8,
      "outputs": [
        {
          "output_type": "stream",
          "name": "stdout",
          "text": [
            "Name: Bill Gates salary: 12000\n",
            "Name: Elon Musk salary: 9000\n"
          ]
        }
      ]
    },
    {
      "cell_type": "markdown",
      "source": [
        "Q8. Write a program to identify words that contain both letters and digits from a given input string.\n",
        "\n",
        "    Given str1 = \"Harry25 is Gryffindor Wizard50 and cursed\"\n",
        "\n",
        "    Output:\n",
        "    Harry25\n",
        "    Wizard50"
      ],
      "metadata": {
        "id": "BAtCQH3pxXWV"
      }
    },
    {
      "cell_type": "code",
      "source": [
        "import re\n",
        "\n",
        "def find_words_with_letters_and_digits(input_string):\n",
        "    pattern = re.compile(r'\\b(?=\\w*[a-zA-Z])(?=\\w*\\d)\\w+\\b')\n",
        "    words_with_letters_and_digits = pattern.findall(input_string)\n",
        "\n",
        "    return words_with_letters_and_digits\n",
        "\n",
        "str1 = \"Harry25 is Gryffindor Wizard50 and cursed\"\n",
        "\n",
        "result = find_words_with_letters_and_digits(str1)\n",
        "\n",
        "for word in result:\n",
        "    print(word)"
      ],
      "metadata": {
        "id": "bqbyxYdqvJHY",
        "colab": {
          "base_uri": "https://localhost:8080/"
        },
        "outputId": "91f6ed65-c860-4e81-fffa-6ba00645922e"
      },
      "execution_count": 11,
      "outputs": [
        {
          "output_type": "stream",
          "name": "stdout",
          "text": [
            "Harry25\n",
            "Wizard50\n"
          ]
        }
      ]
    },
    {
      "cell_type": "markdown",
      "source": [
        "Q9. Write a program to substitute each special character in the given string with the symbol #.\n",
        "\n",
        "    Given: str1 = '/*Modi is @Politician & Melony!!'\n",
        "\n",
        "    Output: ##Modi is #Politician # Melony##"
      ],
      "metadata": {
        "id": "Ev6TIw7oyGzJ"
      }
    },
    {
      "cell_type": "code",
      "source": [
        "import re\n",
        "\n",
        "def replace_special_characters(input_string):\n",
        "    pattern = re.compile(r'[^\\w\\s]')\n",
        "\n",
        "    replaced_string = pattern.sub('#', input_string)\n",
        "\n",
        "    return replaced_string\n",
        "\n",
        "str1 = '/*Modi is @Politician & Melony!!'\n",
        "\n",
        "result = replace_special_characters(str1)\n",
        "\n",
        "print(result)"
      ],
      "metadata": {
        "id": "Hbg92hJtvJE7",
        "colab": {
          "base_uri": "https://localhost:8080/"
        },
        "outputId": "5f720b16-572f-4bf4-d12f-169aa0bd6f96"
      },
      "execution_count": 12,
      "outputs": [
        {
          "output_type": "stream",
          "name": "stdout",
          "text": [
            "##Modi is #Politician # Melony##\n"
          ]
        }
      ]
    },
    {
      "cell_type": "markdown",
      "source": [
        "Q10. Construct a Python set that displays elements from both lists as pairs.\n",
        "\n",
        "    Given:\n",
        "\n",
        "    first_list = [2, 3, 4, 5, 6, 7, 8]\n",
        "    second_list = [4, 9, 16, 25, 36, 49, 64]\n",
        "    Output: Result is  {(6, 36), (8, 64), (4, 16), (5, 25), (3, 9), (7, 49), (2, 4)}"
      ],
      "metadata": {
        "id": "L9zg8k_XyoMz"
      }
    },
    {
      "cell_type": "code",
      "source": [
        "first_list = [2, 3, 4, 5, 6, 7, 8]\n",
        "second_list = [4, 9, 16, 25, 36, 49, 64]\n",
        "\n",
        "result_set = set((x, y) for x in first_list for y in second_list if y == x**2)\n",
        "\n",
        "print(\"Result is\", result_set)"
      ],
      "metadata": {
        "id": "aSBw6V0OvJCS",
        "colab": {
          "base_uri": "https://localhost:8080/"
        },
        "outputId": "cddd6974-b58c-434a-ef2c-1b03def7cc37"
      },
      "execution_count": 13,
      "outputs": [
        {
          "output_type": "stream",
          "name": "stdout",
          "text": [
            "Result is {(7, 49), (2, 4), (4, 16), (8, 64), (6, 36), (3, 9), (5, 25)}\n"
          ]
        }
      ]
    },
    {
      "cell_type": "markdown",
      "source": [
        "Q11. Define two set A and B consisting of 5 elements. Now print the element after performing\n",
        "\n",
        "\n",
        "      1.   A-B\n",
        "      2.   B-A\n",
        "      3.   A∩B\n",
        "      4.   A∪B\n",
        "\n",
        "\n"
      ],
      "metadata": {
        "id": "JHa0SMOozZo9"
      }
    },
    {
      "cell_type": "code",
      "source": [
        "A = {1, 2, 3, 4, 5}\n",
        "B = {4, 5, 6, 7, 8}\n",
        "\n",
        "A_minus_B = A - B\n",
        "B_minus_A = B - A\n",
        "A_intersection_B = A & B\n",
        "A_union_B = A | B\n",
        "\n",
        "print(\"A - B:\", A_minus_B)\n",
        "print(\"B - A:\", B_minus_A)\n",
        "print(\"A ∩ B:\", A_intersection_B)\n",
        "print(\"A ∪ B:\", A_union_B)"
      ],
      "metadata": {
        "id": "r9vL1bpHzZGg",
        "colab": {
          "base_uri": "https://localhost:8080/"
        },
        "outputId": "94a33710-4ac8-4256-bfe5-7efb94f81145"
      },
      "execution_count": 14,
      "outputs": [
        {
          "output_type": "stream",
          "name": "stdout",
          "text": [
            "A - B: {1, 2, 3}\n",
            "B - A: {8, 6, 7}\n",
            "A ∩ B: {4, 5}\n",
            "A ∪ B: {1, 2, 3, 4, 5, 6, 7, 8}\n"
          ]
        }
      ]
    },
    {
      "cell_type": "markdown",
      "source": [
        "## Object Oriented Programming Exercise 1:\n",
        "\n",
        "[Classes and Objects in Python](https://pynative.com/python-classes-and-objects/)\n",
        "\n",
        "[Instance variables in Python](https://pynative.com/python-instance-variables/)"
      ],
      "metadata": {
        "id": "UFjTtL_i00dz"
      }
    },
    {
      "cell_type": "markdown",
      "source": [
        "Q12. Create a Vehicle class with max_speed and mileage instance attributes."
      ],
      "metadata": {
        "id": "-PQELvq41z5B"
      }
    },
    {
      "cell_type": "code",
      "source": [
        "class Vehicle:\n",
        "    def __init__(self, max_speed, mileage):\n",
        "        self.max_speed = max_speed\n",
        "        self.mileage = mileage\n",
        "\n",
        "    def __str__(self):\n",
        "        return f\"Vehicle with max speed {self.max_speed} km/h and mileage {self.mileage} km\"\n",
        "\n",
        "if __name__ == \"__main__\":\n",
        "    my_vehicle = Vehicle(max_speed=180, mileage=15000)\n",
        "\n",
        "    print(my_vehicle)"
      ],
      "metadata": {
        "id": "Wa16l5-C0z3Z",
        "colab": {
          "base_uri": "https://localhost:8080/"
        },
        "outputId": "8331bfc0-bebc-4d50-a63f-1d2916deac75"
      },
      "execution_count": 15,
      "outputs": [
        {
          "output_type": "stream",
          "name": "stdout",
          "text": [
            "Vehicle with max speed 180 km/h and mileage 15000 km\n"
          ]
        }
      ]
    },
    {
      "cell_type": "markdown",
      "source": [
        "Q13. Create a child class Bus that will inherit all of the variables and methods of the Vehicle class.\n",
        "\n",
        "Create a Bus object that will inherit all of the variables and methods of the parent Vehicle class and display it."
      ],
      "metadata": {
        "id": "-Japqg35177L"
      }
    },
    {
      "cell_type": "code",
      "source": [
        "class Vehicle:\n",
        "    def __init__(self, max_speed, mileage):\n",
        "        self.max_speed = max_speed\n",
        "        self.mileage = mileage\n",
        "\n",
        "    def __str__(self):\n",
        "        return f\"Vehicle with max speed {self.max_speed} km/h and mileage {self.mileage} km\"\n",
        "\n",
        "class Bus(Vehicle):\n",
        "    def __init__(self, max_speed, mileage):\n",
        "        super().__init__(max_speed, mileage)\n",
        "\n",
        "    def __str__(self):\n",
        "        return f\"Bus with max speed {self.max_speed} km/h and mileage {self.mileage} km\"\n",
        "\n",
        "if __name__ == \"__main__\":\n",
        "\n",
        "    my_bus = Bus(max_speed=100, mileage=50000)\n",
        "\n",
        "    print(my_bus)"
      ],
      "metadata": {
        "id": "nUvpX3qR2Upg",
        "colab": {
          "base_uri": "https://localhost:8080/"
        },
        "outputId": "7e815a82-1dea-4bb2-cae6-fe4c5802d337"
      },
      "execution_count": 16,
      "outputs": [
        {
          "output_type": "stream",
          "name": "stdout",
          "text": [
            "Bus with max speed 100 km/h and mileage 50000 km\n"
          ]
        }
      ]
    },
    {
      "cell_type": "markdown",
      "source": [
        "### Class Inheritance\n",
        "\n",
        "Q14. Create a Bus class that inherits from the Vehicle class. Give the capacity argument of Bus.seating_capacity() a default value of 50.\n",
        "\n",
        "Use the following code for your parent Vehicle class.\n",
        "\n",
        "    class Vehicle:\n",
        "      def __init__(self, name, max_speed, mileage):\n",
        "          self.name = name\n",
        "          self.max_speed = max_speed\n",
        "          self.mileage = mileage\n",
        "\n",
        "      def seating_capacity(self, capacity):\n",
        "          return f\"The seating capacity of a {self.name} is {capacity} passengers\"\n",
        "\n",
        "Expected Output:\n",
        "\n",
        "    The seating capacity of a bus is 50 passengers"
      ],
      "metadata": {
        "id": "fPFfg2Hh2VBe"
      }
    },
    {
      "cell_type": "code",
      "source": [
        "class Vehicle:\n",
        "    def __init__(self, name, max_speed, mileage):\n",
        "        self.name = name\n",
        "        self.max_speed = max_speed\n",
        "        self.mileage = mileage\n",
        "\n",
        "    def seating_capacity(self, capacity):\n",
        "        return f\"The seating capacity of a {self.name} is {capacity} passengers\"\n",
        "\n",
        "class Bus(Vehicle):\n",
        "    def __init__(self, name, max_speed, mileage):\n",
        "        super().__init__(name, max_speed, mileage)\n",
        "\n",
        "    def seating_capacity(self, capacity=50):\n",
        "        return f\"The seating capacity of a {self.name} is {capacity} passengers\"\n",
        "\n",
        "if __name__ == \"__main__\":\n",
        "    my_bus = Bus(name=\"bus\", max_speed=80, mileage=60000)\n",
        "\n",
        "    print(my_bus.seating_capacity())"
      ],
      "metadata": {
        "id": "TKalMy1B2_Ix",
        "colab": {
          "base_uri": "https://localhost:8080/"
        },
        "outputId": "2031335b-590c-4a9e-c865-2c3101a47ed6"
      },
      "execution_count": 17,
      "outputs": [
        {
          "output_type": "stream",
          "name": "stdout",
          "text": [
            "The seating capacity of a bus is 50 passengers\n"
          ]
        }
      ]
    },
    {
      "cell_type": "markdown",
      "source": [
        "Q15. Create a Bus subclass that inherits from the Vehicle class. By default, the fare for any vehicle is calculated as the seating capacity multiplied by 100. For instances of the Bus class, an additional 10% maintenance fee should be applied to the total fare. Therefore, the final fare for a bus instance will be the sum of the total fare plus an additional 10% of that total fare.\n",
        "\n",
        "Note: The bus has a seating capacity of 50, so the final fare amount should be 5500. You need to override the fare() method from the Vehicle class in the Bus class.\n",
        "\n",
        "Use the provided code for the parent Vehicle class. You should access the parent class within a method of the child class.\n",
        "\n",
        "    class Vehicle:\n",
        "      def __init__(self, name, mileage, capacity):\n",
        "        self.name = name\n",
        "        self.mileage = mileage\n",
        "        self.capacity = capacity\n",
        "\n",
        "      def fare(self):\n",
        "        return self.capacity * 100\n",
        "\n",
        "    class Bus(Vehicle):\n",
        "        pass\n",
        "        School_bus = Bus(\"School Volvo\", 12, 50)\n",
        "        print(\"Total Bus fare is:\", School_bus.fare())\n",
        "\n",
        "    Expected Output:\n",
        "\n",
        "    Total Bus fare is: 5500.0"
      ],
      "metadata": {
        "id": "kenJ766m2_jc"
      }
    },
    {
      "cell_type": "code",
      "source": [
        "class Vehicle:\n",
        "    def __init__(self, name, mileage, capacity):\n",
        "        self.name = name\n",
        "        self.mileage = mileage\n",
        "        self.capacity = capacity\n",
        "\n",
        "    def fare(self):\n",
        "        return self.capacity * 100\n",
        "\n",
        "class Bus(Vehicle):\n",
        "    def fare(self):\n",
        "        base_fare = super().fare()\n",
        "        total_fare = base_fare + (0.10 * base_fare)\n",
        "        return total_fare\n",
        "\n",
        "if __name__ == \"__main__\":\n",
        "    school_bus = Bus(name=\"School Volvo\", mileage=12, capacity=50)\n",
        "\n",
        "    print(\"Total Bus fare is:\", school_bus.fare())"
      ],
      "metadata": {
        "id": "jY3Z5SsY_iaQ",
        "colab": {
          "base_uri": "https://localhost:8080/"
        },
        "outputId": "459b1b03-6474-494b-ea3e-865ad4bbaad1"
      },
      "execution_count": 18,
      "outputs": [
        {
          "output_type": "stream",
          "name": "stdout",
          "text": [
            "Total Bus fare is: 5500.0\n"
          ]
        }
      ]
    },
    {
      "cell_type": "markdown",
      "source": [
        "### Python JSON Exercise\n",
        "Refer: [Python JSON tutorials](https://pynative.com/python/json/)"
      ],
      "metadata": {
        "id": "3wMvLEkk_nWE"
      }
    },
    {
      "cell_type": "markdown",
      "source": [
        "Q16. Convert the following dictionary into JSON format\n",
        "\n",
        "    data = {\"key1\" : \"value1\", \"key2\" : \"value2\"}\n",
        "    data = {\"key1\" : \"value1\", \"key2\" : \"value2\"}"
      ],
      "metadata": {
        "id": "zVIiuI0PAcuT"
      }
    },
    {
      "cell_type": "code",
      "source": [
        "import json\n",
        "\n",
        "data = {\"key1\": \"value1\", \"key2\": \"value2\"}\n",
        "\n",
        "json_data = json.dumps(data, indent=4)\n",
        "\n",
        "print(json_data)"
      ],
      "metadata": {
        "id": "Z5M47OYS_mhA",
        "colab": {
          "base_uri": "https://localhost:8080/"
        },
        "outputId": "25341920-5f81-4edc-9897-025bd31d4834"
      },
      "execution_count": 19,
      "outputs": [
        {
          "output_type": "stream",
          "name": "stdout",
          "text": [
            "{\n",
            "    \"key1\": \"value1\",\n",
            "    \"key2\": \"value2\"\n",
            "}\n"
          ]
        }
      ]
    },
    {
      "cell_type": "markdown",
      "source": [
        "Q17. Sort JSON keys in and write them into a file\n",
        "\n",
        "    sampleJson = {\"id\" : 1, \"name\" : \"value2\", \"age\" : 29}\n",
        "\n",
        "    {\n",
        "          \"age\": 29,\n",
        "          \"id\": 1,\n",
        "          \"name\": \"value2\"\n",
        "    }"
      ],
      "metadata": {
        "id": "8eE35QccA_X-"
      }
    },
    {
      "cell_type": "code",
      "source": [
        "import json\n",
        "\n",
        "sampleJson = {\"id\": 1, \"name\": \"value2\", \"age\": 29}\n",
        "\n",
        "sorted_json = json.dumps(sampleJson, indent=4, sort_keys=True)\n",
        "\n",
        "with open('sorted_data.json', 'w') as file:\n",
        "    file.write(sorted_json)\n",
        "\n",
        "print(\"Sorted JSON has been written to 'sorted_data.json'\")"
      ],
      "metadata": {
        "id": "jLG5tk_X_j5O",
        "colab": {
          "base_uri": "https://localhost:8080/"
        },
        "outputId": "f2359ecb-6ee7-4e73-cbbc-08235e8bd231"
      },
      "execution_count": 20,
      "outputs": [
        {
          "output_type": "stream",
          "name": "stdout",
          "text": [
            "Sorted JSON has been written to 'sorted_data.json'\n"
          ]
        }
      ]
    }
  ]
}